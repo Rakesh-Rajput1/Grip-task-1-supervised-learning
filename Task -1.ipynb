{
 "cells": [
  {
   "cell_type": "markdown",
   "metadata": {},
   "source": [
    "*                           Name     - Rakesh Rajput\n",
    "*                           job/type - intern @ The Sparks Foundation\n",
    "*                           Domain   - Data Science & Business analytics\n",
    "*                                    Task-1 "
   ]
  },
  {
   "cell_type": "markdown",
   "metadata": {},
   "source": [
    "### Aim- To Predict the Percentange of an student based on the no of study hours\n",
    "* by using simple linear regression algorithm"
   ]
  },
  {
   "cell_type": "code",
   "execution_count": 1,
   "metadata": {},
   "outputs": [],
   "source": [
    "# import neccesary lib for the project\n",
    "import pandas as pd\n",
    "import numpy as np\n",
    "import matplotlib.pyplot as plt\n",
    "import seaborn as sns"
   ]
  },
  {
   "cell_type": "code",
   "execution_count": 2,
   "metadata": {},
   "outputs": [
    {
     "data": {
      "text/html": [
       "<div>\n",
       "<style scoped>\n",
       "    .dataframe tbody tr th:only-of-type {\n",
       "        vertical-align: middle;\n",
       "    }\n",
       "\n",
       "    .dataframe tbody tr th {\n",
       "        vertical-align: top;\n",
       "    }\n",
       "\n",
       "    .dataframe thead th {\n",
       "        text-align: right;\n",
       "    }\n",
       "</style>\n",
       "<table border=\"1\" class=\"dataframe\">\n",
       "  <thead>\n",
       "    <tr style=\"text-align: right;\">\n",
       "      <th></th>\n",
       "      <th>Hours</th>\n",
       "      <th>Scores</th>\n",
       "    </tr>\n",
       "  </thead>\n",
       "  <tbody>\n",
       "    <tr>\n",
       "      <th>0</th>\n",
       "      <td>2.5</td>\n",
       "      <td>21</td>\n",
       "    </tr>\n",
       "    <tr>\n",
       "      <th>1</th>\n",
       "      <td>5.1</td>\n",
       "      <td>47</td>\n",
       "    </tr>\n",
       "  </tbody>\n",
       "</table>\n",
       "</div>"
      ],
      "text/plain": [
       "   Hours  Scores\n",
       "0    2.5      21\n",
       "1    5.1      47"
      ]
     },
     "execution_count": 2,
     "metadata": {},
     "output_type": "execute_result"
    }
   ],
   "source": [
    "# import data \n",
    "data=pd.read_csv(r'C:\\Users\\asus\\Desktop\\unneccesary\\student_scores - student_scores.csv')\n",
    "data.head(2)"
   ]
  },
  {
   "cell_type": "code",
   "execution_count": 3,
   "metadata": {},
   "outputs": [
    {
     "data": {
      "text/plain": [
       "(25, 2)"
      ]
     },
     "execution_count": 3,
     "metadata": {},
     "output_type": "execute_result"
    }
   ],
   "source": [
    "# check shape of data\n",
    "data.shape"
   ]
  },
  {
   "cell_type": "code",
   "execution_count": 4,
   "metadata": {},
   "outputs": [
    {
     "data": {
      "text/html": [
       "<div>\n",
       "<style scoped>\n",
       "    .dataframe tbody tr th:only-of-type {\n",
       "        vertical-align: middle;\n",
       "    }\n",
       "\n",
       "    .dataframe tbody tr th {\n",
       "        vertical-align: top;\n",
       "    }\n",
       "\n",
       "    .dataframe thead th {\n",
       "        text-align: right;\n",
       "    }\n",
       "</style>\n",
       "<table border=\"1\" class=\"dataframe\">\n",
       "  <thead>\n",
       "    <tr style=\"text-align: right;\">\n",
       "      <th></th>\n",
       "      <th>Hours</th>\n",
       "      <th>Scores</th>\n",
       "    </tr>\n",
       "  </thead>\n",
       "  <tbody>\n",
       "    <tr>\n",
       "      <th>count</th>\n",
       "      <td>25.000000</td>\n",
       "      <td>25.000000</td>\n",
       "    </tr>\n",
       "    <tr>\n",
       "      <th>mean</th>\n",
       "      <td>5.012000</td>\n",
       "      <td>51.480000</td>\n",
       "    </tr>\n",
       "    <tr>\n",
       "      <th>std</th>\n",
       "      <td>2.525094</td>\n",
       "      <td>25.286887</td>\n",
       "    </tr>\n",
       "    <tr>\n",
       "      <th>min</th>\n",
       "      <td>1.100000</td>\n",
       "      <td>17.000000</td>\n",
       "    </tr>\n",
       "    <tr>\n",
       "      <th>25%</th>\n",
       "      <td>2.700000</td>\n",
       "      <td>30.000000</td>\n",
       "    </tr>\n",
       "    <tr>\n",
       "      <th>50%</th>\n",
       "      <td>4.800000</td>\n",
       "      <td>47.000000</td>\n",
       "    </tr>\n",
       "    <tr>\n",
       "      <th>75%</th>\n",
       "      <td>7.400000</td>\n",
       "      <td>75.000000</td>\n",
       "    </tr>\n",
       "    <tr>\n",
       "      <th>max</th>\n",
       "      <td>9.200000</td>\n",
       "      <td>95.000000</td>\n",
       "    </tr>\n",
       "  </tbody>\n",
       "</table>\n",
       "</div>"
      ],
      "text/plain": [
       "           Hours     Scores\n",
       "count  25.000000  25.000000\n",
       "mean    5.012000  51.480000\n",
       "std     2.525094  25.286887\n",
       "min     1.100000  17.000000\n",
       "25%     2.700000  30.000000\n",
       "50%     4.800000  47.000000\n",
       "75%     7.400000  75.000000\n",
       "max     9.200000  95.000000"
      ]
     },
     "execution_count": 4,
     "metadata": {},
     "output_type": "execute_result"
    }
   ],
   "source": [
    "# describe data\n",
    "data.describe()"
   ]
  },
  {
   "cell_type": "code",
   "execution_count": 5,
   "metadata": {},
   "outputs": [
    {
     "data": {
      "image/png": "[encoded data removed]",
      "text/plain": [
       "<Figure size 432x288 with 2 Axes>"
      ]
     },
     "metadata": {
      "needs_background": "light"
     },
     "output_type": "display_data"
    }
   ],
   "source": [
    "# check null value of data by using heatmap\n",
    "sns.heatmap(data.isnull())\n",
    "plt.show()"
   ]
  },
  {
   "cell_type": "markdown",
   "metadata": {},
   "source": [
    "* we have no find null value in our data"
   ]
  },
  {
   "cell_type": "code",
   "execution_count": 6,
   "metadata": {},
   "outputs": [
    {
     "data": {
      "text/plain": [
       "Index(['Hours', 'Scores'], dtype='object')"
      ]
     },
     "execution_count": 6,
     "metadata": {},
     "output_type": "execute_result"
    }
   ],
   "source": [
    "# find column of data\n",
    "data.columns"
   ]
  },
  {
   "cell_type": "code",
   "execution_count": 7,
   "metadata": {},
   "outputs": [
    {
     "name": "stdout",
     "output_type": "stream",
     "text": [
      "<class 'pandas.core.frame.DataFrame'>\n",
      "RangeIndex: 25 entries, 0 to 24\n",
      "Data columns (total 2 columns):\n",
      " #   Column  Non-Null Count  Dtype  \n",
      "---  ------  --------------  -----  \n",
      " 0   Hours   25 non-null     float64\n",
      " 1   Scores  25 non-null     int64  \n",
      "dtypes: float64(1), int64(1)\n",
      "memory usage: 528.0 bytes\n"
     ]
    }
   ],
   "source": [
    "# find all information of data\n",
    "data.info()"
   ]
  },
  {
   "cell_type": "markdown",
   "metadata": {},
   "source": [
    "### Find Relation Between Dependent and independent variable"
   ]
  },
  {
   "cell_type": "code",
   "execution_count": 8,
   "metadata": {},
   "outputs": [
    {
     "data": {
      "text/html": [
       "<style  type=\"text/css\" >\n",
       "#T_23268f14_b103_11eb_93e0_de32c9a0ad4brow0_col0{\n",
       "            background-color:  #67000d;\n",
       "            color:  #f1f1f1;\n",
       "        }#T_23268f14_b103_11eb_93e0_de32c9a0ad4brow1_col0{\n",
       "            background-color:  #920a13;\n",
       "            color:  #f1f1f1;\n",
       "        }#T_23268f14_b103_11eb_93e0_de32c9a0ad4brow2_col0{\n",
       "            background-color:  #9f0e14;\n",
       "            color:  #f1f1f1;\n",
       "        }#T_23268f14_b103_11eb_93e0_de32c9a0ad4brow3_col0{\n",
       "            background-color:  #a50f15;\n",
       "            color:  #f1f1f1;\n",
       "        }#T_23268f14_b103_11eb_93e0_de32c9a0ad4brow4_col0{\n",
       "            background-color:  #b51318;\n",
       "            color:  #f1f1f1;\n",
       "        }#T_23268f14_b103_11eb_93e0_de32c9a0ad4brow5_col0{\n",
       "            background-color:  #c9181d;\n",
       "            color:  #f1f1f1;\n",
       "        }#T_23268f14_b103_11eb_93e0_de32c9a0ad4brow6_col0{\n",
       "            background-color:  #cc191e;\n",
       "            color:  #f1f1f1;\n",
       "        }#T_23268f14_b103_11eb_93e0_de32c9a0ad4brow7_col0{\n",
       "            background-color:  #e32f27;\n",
       "            color:  #f1f1f1;\n",
       "        }#T_23268f14_b103_11eb_93e0_de32c9a0ad4brow8_col0{\n",
       "            background-color:  #ea362a;\n",
       "            color:  #f1f1f1;\n",
       "        }#T_23268f14_b103_11eb_93e0_de32c9a0ad4brow9_col0{\n",
       "            background-color:  #f44d38;\n",
       "            color:  #000000;\n",
       "        }#T_23268f14_b103_11eb_93e0_de32c9a0ad4brow10_col0{\n",
       "            background-color:  #f6563d;\n",
       "            color:  #000000;\n",
       "        }#T_23268f14_b103_11eb_93e0_de32c9a0ad4brow11_col0{\n",
       "            background-color:  #fb6e4e;\n",
       "            color:  #000000;\n",
       "        }#T_23268f14_b103_11eb_93e0_de32c9a0ad4brow12_col0{\n",
       "            background-color:  #fb7252;\n",
       "            color:  #000000;\n",
       "        }#T_23268f14_b103_11eb_93e0_de32c9a0ad4brow13_col0{\n",
       "            background-color:  #fc7f5f;\n",
       "            color:  #000000;\n",
       "        }#T_23268f14_b103_11eb_93e0_de32c9a0ad4brow14_col0{\n",
       "            background-color:  #fc8f6f;\n",
       "            color:  #000000;\n",
       "        }#T_23268f14_b103_11eb_93e0_de32c9a0ad4brow15_col0{\n",
       "            background-color:  #fca486;\n",
       "            color:  #000000;\n",
       "        }#T_23268f14_b103_11eb_93e0_de32c9a0ad4brow16_col0{\n",
       "            background-color:  #fca98c;\n",
       "            color:  #000000;\n",
       "        }#T_23268f14_b103_11eb_93e0_de32c9a0ad4brow17_col0{\n",
       "            background-color:  #fcc1a8;\n",
       "            color:  #000000;\n",
       "        }#T_23268f14_b103_11eb_93e0_de32c9a0ad4brow18_col0{\n",
       "            background-color:  #fdd4c2;\n",
       "            color:  #000000;\n",
       "        }#T_23268f14_b103_11eb_93e0_de32c9a0ad4brow19_col0{\n",
       "            background-color:  #fee0d2;\n",
       "            color:  #000000;\n",
       "        }#T_23268f14_b103_11eb_93e0_de32c9a0ad4brow20_col0{\n",
       "            background-color:  #fee7db;\n",
       "            color:  #000000;\n",
       "        }#T_23268f14_b103_11eb_93e0_de32c9a0ad4brow21_col0{\n",
       "            background-color:  #ffefe8;\n",
       "            color:  #000000;\n",
       "        }#T_23268f14_b103_11eb_93e0_de32c9a0ad4brow22_col0{\n",
       "            background-color:  #fff5f0;\n",
       "            color:  #000000;\n",
       "        }</style><table id=\"T_23268f14_b103_11eb_93e0_de32c9a0ad4b\" ><thead>    <tr>        <th class=\"blank level0\" ></th>        <th class=\"col_heading level0 col0\" >Scores</th>    </tr>    <tr>        <th class=\"index_name level0\" >Hours</th>        <th class=\"blank\" ></th>    </tr></thead><tbody>\n",
       "                <tr>\n",
       "                        <th id=\"T_23268f14_b103_11eb_93e0_de32c9a0ad4blevel0_row0\" class=\"row_heading level0 row0\" >8.9</th>\n",
       "                        <td id=\"T_23268f14_b103_11eb_93e0_de32c9a0ad4brow0_col0\" class=\"data row0 col0\" >95</td>\n",
       "            </tr>\n",
       "            <tr>\n",
       "                        <th id=\"T_23268f14_b103_11eb_93e0_de32c9a0ad4blevel0_row1\" class=\"row_heading level0 row1\" >9.2</th>\n",
       "                        <td id=\"T_23268f14_b103_11eb_93e0_de32c9a0ad4brow1_col0\" class=\"data row1 col0\" >88</td>\n",
       "            </tr>\n",
       "            <tr>\n",
       "                        <th id=\"T_23268f14_b103_11eb_93e0_de32c9a0ad4blevel0_row2\" class=\"row_heading level0 row2\" >7.8</th>\n",
       "                        <td id=\"T_23268f14_b103_11eb_93e0_de32c9a0ad4brow2_col0\" class=\"data row2 col0\" >86</td>\n",
       "            </tr>\n",
       "            <tr>\n",
       "                        <th id=\"T_23268f14_b103_11eb_93e0_de32c9a0ad4blevel0_row3\" class=\"row_heading level0 row3\" >7.7</th>\n",
       "                        <td id=\"T_23268f14_b103_11eb_93e0_de32c9a0ad4brow3_col0\" class=\"data row3 col0\" >85</td>\n",
       "            </tr>\n",
       "            <tr>\n",
       "                        <th id=\"T_23268f14_b103_11eb_93e0_de32c9a0ad4blevel0_row4\" class=\"row_heading level0 row4\" >8.3</th>\n",
       "                        <td id=\"T_23268f14_b103_11eb_93e0_de32c9a0ad4brow4_col0\" class=\"data row4 col0\" >81</td>\n",
       "            </tr>\n",
       "            <tr>\n",
       "                        <th id=\"T_23268f14_b103_11eb_93e0_de32c9a0ad4blevel0_row5\" class=\"row_heading level0 row5\" >6.9</th>\n",
       "                        <td id=\"T_23268f14_b103_11eb_93e0_de32c9a0ad4brow5_col0\" class=\"data row5 col0\" >76</td>\n",
       "            </tr>\n",
       "            <tr>\n",
       "                        <th id=\"T_23268f14_b103_11eb_93e0_de32c9a0ad4blevel0_row6\" class=\"row_heading level0 row6\" >8.5</th>\n",
       "                        <td id=\"T_23268f14_b103_11eb_93e0_de32c9a0ad4brow6_col0\" class=\"data row6 col0\" >75</td>\n",
       "            </tr>\n",
       "            <tr>\n",
       "                        <th id=\"T_23268f14_b103_11eb_93e0_de32c9a0ad4blevel0_row7\" class=\"row_heading level0 row7\" >7.4</th>\n",
       "                        <td id=\"T_23268f14_b103_11eb_93e0_de32c9a0ad4brow7_col0\" class=\"data row7 col0\" >69</td>\n",
       "            </tr>\n",
       "            <tr>\n",
       "                        <th id=\"T_23268f14_b103_11eb_93e0_de32c9a0ad4blevel0_row8\" class=\"row_heading level0 row8\" >6.1</th>\n",
       "                        <td id=\"T_23268f14_b103_11eb_93e0_de32c9a0ad4brow8_col0\" class=\"data row8 col0\" >67</td>\n",
       "            </tr>\n",
       "            <tr>\n",
       "                        <th id=\"T_23268f14_b103_11eb_93e0_de32c9a0ad4blevel0_row9\" class=\"row_heading level0 row9\" >5.9</th>\n",
       "                        <td id=\"T_23268f14_b103_11eb_93e0_de32c9a0ad4brow9_col0\" class=\"data row9 col0\" >62</td>\n",
       "            </tr>\n",
       "            <tr>\n",
       "                        <th id=\"T_23268f14_b103_11eb_93e0_de32c9a0ad4blevel0_row10\" class=\"row_heading level0 row10\" >5.5</th>\n",
       "                        <td id=\"T_23268f14_b103_11eb_93e0_de32c9a0ad4brow10_col0\" class=\"data row10 col0\" >60</td>\n",
       "            </tr>\n",
       "            <tr>\n",
       "                        <th id=\"T_23268f14_b103_11eb_93e0_de32c9a0ad4blevel0_row11\" class=\"row_heading level0 row11\" >2.7</th>\n",
       "                        <td id=\"T_23268f14_b103_11eb_93e0_de32c9a0ad4brow11_col0\" class=\"data row11 col0\" >55</td>\n",
       "            </tr>\n",
       "            <tr>\n",
       "                        <th id=\"T_23268f14_b103_11eb_93e0_de32c9a0ad4blevel0_row12\" class=\"row_heading level0 row12\" >4.8</th>\n",
       "                        <td id=\"T_23268f14_b103_11eb_93e0_de32c9a0ad4brow12_col0\" class=\"data row12 col0\" >54</td>\n",
       "            </tr>\n",
       "            <tr>\n",
       "                        <th id=\"T_23268f14_b103_11eb_93e0_de32c9a0ad4blevel0_row13\" class=\"row_heading level0 row13\" >2.5</th>\n",
       "                        <td id=\"T_23268f14_b103_11eb_93e0_de32c9a0ad4brow13_col0\" class=\"data row13 col0\" >51</td>\n",
       "            </tr>\n",
       "            <tr>\n",
       "                        <th id=\"T_23268f14_b103_11eb_93e0_de32c9a0ad4blevel0_row14\" class=\"row_heading level0 row14\" >5.1</th>\n",
       "                        <td id=\"T_23268f14_b103_11eb_93e0_de32c9a0ad4brow14_col0\" class=\"data row14 col0\" >47</td>\n",
       "            </tr>\n",
       "            <tr>\n",
       "                        <th id=\"T_23268f14_b103_11eb_93e0_de32c9a0ad4blevel0_row15\" class=\"row_heading level0 row15\" >3.3</th>\n",
       "                        <td id=\"T_23268f14_b103_11eb_93e0_de32c9a0ad4brow15_col0\" class=\"data row15 col0\" >42</td>\n",
       "            </tr>\n",
       "            <tr>\n",
       "                        <th id=\"T_23268f14_b103_11eb_93e0_de32c9a0ad4blevel0_row16\" class=\"row_heading level0 row16\" >4.5</th>\n",
       "                        <td id=\"T_23268f14_b103_11eb_93e0_de32c9a0ad4brow16_col0\" class=\"data row16 col0\" >41</td>\n",
       "            </tr>\n",
       "            <tr>\n",
       "                        <th id=\"T_23268f14_b103_11eb_93e0_de32c9a0ad4blevel0_row17\" class=\"row_heading level0 row17\" >3.8</th>\n",
       "                        <td id=\"T_23268f14_b103_11eb_93e0_de32c9a0ad4brow17_col0\" class=\"data row17 col0\" >35</td>\n",
       "            </tr>\n",
       "            <tr>\n",
       "                        <th id=\"T_23268f14_b103_11eb_93e0_de32c9a0ad4blevel0_row18\" class=\"row_heading level0 row18\" >3.5</th>\n",
       "                        <td id=\"T_23268f14_b103_11eb_93e0_de32c9a0ad4brow18_col0\" class=\"data row18 col0\" >30</td>\n",
       "            </tr>\n",
       "            <tr>\n",
       "                        <th id=\"T_23268f14_b103_11eb_93e0_de32c9a0ad4blevel0_row19\" class=\"row_heading level0 row19\" >3.2</th>\n",
       "                        <td id=\"T_23268f14_b103_11eb_93e0_de32c9a0ad4brow19_col0\" class=\"data row19 col0\" >27</td>\n",
       "            </tr>\n",
       "            <tr>\n",
       "                        <th id=\"T_23268f14_b103_11eb_93e0_de32c9a0ad4blevel0_row20\" class=\"row_heading level0 row20\" >1.9</th>\n",
       "                        <td id=\"T_23268f14_b103_11eb_93e0_de32c9a0ad4brow20_col0\" class=\"data row20 col0\" >24</td>\n",
       "            </tr>\n",
       "            <tr>\n",
       "                        <th id=\"T_23268f14_b103_11eb_93e0_de32c9a0ad4blevel0_row21\" class=\"row_heading level0 row21\" >1.5</th>\n",
       "                        <td id=\"T_23268f14_b103_11eb_93e0_de32c9a0ad4brow21_col0\" class=\"data row21 col0\" >20</td>\n",
       "            </tr>\n",
       "            <tr>\n",
       "                        <th id=\"T_23268f14_b103_11eb_93e0_de32c9a0ad4blevel0_row22\" class=\"row_heading level0 row22\" >1.1</th>\n",
       "                        <td id=\"T_23268f14_b103_11eb_93e0_de32c9a0ad4brow22_col0\" class=\"data row22 col0\" >17</td>\n",
       "            </tr>\n",
       "    </tbody></table>"
      ],
      "text/plain": [
       "<pandas.io.formats.style.Styler at 0x27b9d178430>"
      ]
     },
     "execution_count": 8,
     "metadata": {},
     "output_type": "execute_result"
    }
   ],
   "source": [
    "hour_spent=data.groupby('Hours')['Scores'].sum().sort_values(ascending=False).to_frame()\n",
    "hour_spent.style.background_gradient(cmap='Reds')"
   ]
  },
  {
   "cell_type": "markdown",
   "metadata": {},
   "source": [
    "* in above analysis you have see how many time of each student have spent in study and what was they \n",
    "  got marks in exam"
   ]
  },
  {
   "cell_type": "code",
   "execution_count": 9,
   "metadata": {},
   "outputs": [
    {
     "data": {
      "image/png": "[encoded data removed]",
      "text/plain": [
       "<Figure size 432x288 with 1 Axes>"
      ]
     },
     "metadata": {
      "needs_background": "light"
     },
     "output_type": "display_data"
    }
   ],
   "source": [
    "plt.xlabel('Hours',fontsize=15)\n",
    "plt.ylabel('Scores',fontsize=15)\n",
    "plt.title('Hours studied vs Score', fontsize=10)\n",
    "plt.scatter(data.Hours,data.Scores,color='red',marker='o')\n",
    "plt.show()"
   ]
  },
  {
   "cell_type": "markdown",
   "metadata": {},
   "source": [
    " * Here we Observe that Number of Hour studies is linearly related to Scores of the student"
   ]
  },
  {
   "cell_type": "markdown",
   "metadata": {},
   "source": [
    "### Find the dependent and independent variable\n"
   ]
  },
  {
   "cell_type": "code",
   "execution_count": 10,
   "metadata": {},
   "outputs": [],
   "source": [
    "x=data[['Hours']]"
   ]
  },
  {
   "cell_type": "code",
   "execution_count": 11,
   "metadata": {},
   "outputs": [],
   "source": [
    "y=data[['Scores']]"
   ]
  },
  {
   "cell_type": "markdown",
   "metadata": {},
   "source": [
    "### Splitting the data into for training and testing"
   ]
  },
  {
   "cell_type": "code",
   "execution_count": 12,
   "metadata": {},
   "outputs": [],
   "source": [
    "# import train_test_split from sklearn\n",
    "from sklearn.model_selection import train_test_split"
   ]
  },
  {
   "cell_type": "code",
   "execution_count": 13,
   "metadata": {},
   "outputs": [],
   "source": [
    "# formed 4 variable\n",
    "x_train,x_test,y_train,y_test=train_test_split(x,y,test_size=0.2,random_state=0)"
   ]
  },
  {
   "cell_type": "markdown",
   "metadata": {},
   "source": [
    "### Training the Linear Regression Model"
   ]
  },
  {
   "cell_type": "code",
   "execution_count": 14,
   "metadata": {},
   "outputs": [],
   "source": [
    "# importing linearn regression module\n",
    "from sklearn.linear_model import LinearRegression"
   ]
  },
  {
   "cell_type": "code",
   "execution_count": 15,
   "metadata": {},
   "outputs": [
    {
     "data": {
      "text/plain": [
       "LinearRegression()"
      ]
     },
     "execution_count": 15,
     "metadata": {},
     "output_type": "execute_result"
    }
   ],
   "source": [
    "lr=LinearRegression()\n",
    "lr.fit(x_train,y_train)"
   ]
  },
  {
   "cell_type": "code",
   "execution_count": 16,
   "metadata": {},
   "outputs": [],
   "source": [
    "## ploting the REGRESSION LINE----\n",
    "Y0 = lr.intercept_ + lr.coef_*x_train"
   ]
  },
  {
   "cell_type": "code",
   "execution_count": 17,
   "metadata": {},
   "outputs": [
    {
     "data": {
      "image/png": "[encoded data removed]",
      "text/plain": [
       "<Figure size 432x288 with 1 Axes>"
      ]
     },
     "metadata": {
      "needs_background": "light"
     },
     "output_type": "display_data"
    }
   ],
   "source": [
    "# Plotting for the test data\n",
    "line = lr.coef_*x+lr.intercept_\n",
    "\n",
    "# Plotting on test data\n",
    "plt.scatter(x, y)\n",
    "plt.plot(x, line);\n",
    "plt.show()"
   ]
  },
  {
   "cell_type": "markdown",
   "metadata": {},
   "source": [
    "# Making Predictions"
   ]
  },
  {
   "cell_type": "code",
   "execution_count": 18,
   "metadata": {},
   "outputs": [
    {
     "data": {
      "text/plain": [
       "array([[16.88414476],\n",
       "       [33.73226078],\n",
       "       [75.357018  ],\n",
       "       [26.79480124],\n",
       "       [60.49103328]])"
      ]
     },
     "execution_count": 18,
     "metadata": {},
     "output_type": "execute_result"
    }
   ],
   "source": [
    "# prediction\n",
    "y_pred=lr.predict(x_test)\n",
    "y_pred"
   ]
  },
  {
   "cell_type": "code",
   "execution_count": 40,
   "metadata": {},
   "outputs": [
    {
     "data": {
      "text/html": [
       "<div>\n",
       "<style scoped>\n",
       "    .dataframe tbody tr th:only-of-type {\n",
       "        vertical-align: middle;\n",
       "    }\n",
       "\n",
       "    .dataframe tbody tr th {\n",
       "        vertical-align: top;\n",
       "    }\n",
       "\n",
       "    .dataframe thead th {\n",
       "        text-align: right;\n",
       "    }\n",
       "</style>\n",
       "<table border=\"1\" class=\"dataframe\">\n",
       "  <thead>\n",
       "    <tr style=\"text-align: right;\">\n",
       "      <th></th>\n",
       "      <th>Scores</th>\n",
       "    </tr>\n",
       "  </thead>\n",
       "  <tbody>\n",
       "    <tr>\n",
       "      <th>5</th>\n",
       "      <td>20</td>\n",
       "    </tr>\n",
       "    <tr>\n",
       "      <th>2</th>\n",
       "      <td>27</td>\n",
       "    </tr>\n",
       "    <tr>\n",
       "      <th>19</th>\n",
       "      <td>69</td>\n",
       "    </tr>\n",
       "    <tr>\n",
       "      <th>16</th>\n",
       "      <td>30</td>\n",
       "    </tr>\n",
       "    <tr>\n",
       "      <th>11</th>\n",
       "      <td>62</td>\n",
       "    </tr>\n",
       "  </tbody>\n",
       "</table>\n",
       "</div>"
      ],
      "text/plain": [
       "    Scores\n",
       "5       20\n",
       "2       27\n",
       "19      69\n",
       "16      30\n",
       "11      62"
      ]
     },
     "execution_count": 40,
     "metadata": {},
     "output_type": "execute_result"
    }
   ],
   "source": [
    "# actual value\n",
    "y_test\n"
   ]
  },
  {
   "cell_type": "code",
   "execution_count": 20,
   "metadata": {},
   "outputs": [
    {
     "data": {
      "image/png": "[encoded data removed]",
      "text/plain": [
       "<Figure size 432x288 with 1 Axes>"
      ]
     },
     "metadata": {
      "needs_background": "light"
     },
     "output_type": "display_data"
    }
   ],
   "source": [
    "plt.plot(x_test,y_pred,color='blue')\n",
    "plt.scatter(x_test,y_test,color='black',marker='*')\n",
    "plt.xlabel(\"Hours\",fontsize=15)\n",
    "plt.ylabel(\"Scores\",fontsize=15)\n",
    "plt.title(\"Regression line(Test set)\",fontsize=10)\n",
    "plt.show()"
   ]
  },
  {
   "cell_type": "markdown",
   "metadata": {},
   "source": [
    "Accuracy of the model "
   ]
  },
  {
   "cell_type": "code",
   "execution_count": 21,
   "metadata": {},
   "outputs": [
    {
     "data": {
      "text/plain": [
       "0.9454906892105356"
      ]
     },
     "execution_count": 21,
     "metadata": {},
     "output_type": "execute_result"
    }
   ],
   "source": [
    "from sklearn import metrics\n",
    "metrics.r2_score(y_test,y_pred)"
   ]
  },
  {
   "cell_type": "markdown",
   "metadata": {},
   "source": [
    "accuracy of the model is approx 95% it show it is good model for prediction"
   ]
  },
  {
   "cell_type": "markdown",
   "metadata": {},
   "source": [
    "# Prediction error"
   ]
  },
  {
   "cell_type": "code",
   "execution_count": 22,
   "metadata": {},
   "outputs": [],
   "source": [
    "from sklearn.metrics import mean_squared_error,mean_absolute_error"
   ]
  },
  {
   "cell_type": "code",
   "execution_count": 23,
   "metadata": {},
   "outputs": [
    {
     "name": "stdout",
     "output_type": "stream",
     "text": [
      "Mean Absolute Error     =  4.6474476121003665\n",
      "Root Mean Squared Error =  4.6474476121003665\n",
      "Mean Squared Error      =  21.5987693072174\n"
     ]
    }
   ],
   "source": [
    "mse = metrics.mean_squared_error(y_test,y_pred)\n",
    "root_e = np.sqrt(metrics.mean_squared_error(y_test,y_pred))\n",
    "abs_e = np.sqrt(metrics.mean_squared_error(y_test,y_pred))\n",
    "print(\"Mean Absolute Error     = \",abs_e)\n",
    "print(\"Root Mean Squared Error = \",root_e)\n",
    "print(\"Mean Squared Error      = \",mse)\n"
   ]
  },
  {
   "cell_type": "markdown",
   "metadata": {},
   "source": [
    "##### project question What will be predicted score if a student studies for 9.25 hrs/ day?"
   ]
  },
  {
   "cell_type": "code",
   "execution_count": 24,
   "metadata": {},
   "outputs": [
    {
     "name": "stdout",
     "output_type": "stream",
     "text": [
      "if a student study for 9.25 hrs/day then there score is : [[93.69173249]]\n"
     ]
    }
   ],
   "source": [
    "Prediction_score = lr.predict([[9.25]])\n",
    "print(\"if a student study for 9.25 hrs/day then there score is :\",Prediction_score)"
   ]
  },
  {
   "cell_type": "markdown",
   "metadata": {},
   "source": [
    " ### Conclusion"
   ]
  },
  {
   "cell_type": "markdown",
   "metadata": {},
   "source": [
    "what ever our model predicted above on that basis we say that if a student can doing study 9.25 hrs/day then they scecured marks around 93% in exam"
   ]
  },
  {
   "cell_type": "markdown",
   "metadata": {},
   "source": [
    "## work Done \n",
    "#### by Rakesh Rajput \n",
    "Thank you for your attention "
   ]
  },
  {
   "cell_type": "code",
   "execution_count": 25,
   "metadata": {},
   "outputs": [
    {
     "name": "stdout",
     "output_type": "stream",
     "text": [
      "🙂 🙂 🙂 🙂 🙂 🙂 🙂 🙂 🙂 🙂 🙂 🙂 🙂 🙂 🙂 🙂 🙂 🙂 🙂 🙂 🙂 🙂 🙂 🙂 🙂 🙂 🙂 🙂 🙂\n"
     ]
    }
   ],
   "source": [
    "print('\\U0001F642','\\U0001F642','\\U0001F642','\\U0001F642','\\U0001F642','\\U0001F642','\\U0001F642','\\U0001F642','\\U0001F642','\\U0001F642','\\U0001F642','\\U0001F642','\\U0001F642','\\U0001F642','\\U0001F642','\\U0001F642','\\U0001F642','\\U0001F642','\\U0001F642','\\U0001F642','\\U0001F642','\\U0001F642','\\U0001F642','\\U0001F642','\\U0001F642','\\U0001F642','\\U0001F642','\\U0001F642','\\U0001F642')"
   ]
  }
 ],
 "metadata": {
  "kernelspec": {
   "display_name": "Python 3",
   "language": "python",
   "name": "python3"
  },
  "language_info": {
   "codemirror_mode": {
    "name": "ipython",
    "version": 3
   },
   "file_extension": ".py",
   "mimetype": "text/x-python",
   "name": "python",
   "nbconvert_exporter": "python",
   "pygments_lexer": "ipython3",
   "version": "3.8.5"
  }
 },
 "nbformat": 4,
 "nbformat_minor": 4
}
